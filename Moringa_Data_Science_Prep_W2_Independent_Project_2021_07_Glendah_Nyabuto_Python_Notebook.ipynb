{
  "nbformat": 4,
  "nbformat_minor": 0,
  "metadata": {
    "colab": {
      "name": "Moringa_Data_Science_Prep_W2_Independent_Project_2021_07_Glendah_Nyabuto_Python_Notebook.ipynb",
      "provenance": [],
      "collapsed_sections": [],
      "authorship_tag": "ABX9TyNzgndAyHoTM+j8uLhE36vq",
      "include_colab_link": true
    },
    "kernelspec": {
      "name": "python3",
      "display_name": "Python 3"
    },
    "language_info": {
      "name": "python"
    }
  },
  "cells": [
    {
      "cell_type": "markdown",
      "metadata": {
        "id": "view-in-github",
        "colab_type": "text"
      },
      "source": [
        "<a href=\"https://colab.research.google.com/github/Glendah-Nyabuto/week2-ip-moringa/blob/main/Moringa_Data_Science_Prep_W2_Independent_Project_2021_07_Glendah_Nyabuto_Python_Notebook.ipynb\" target=\"_parent\"><img src=\"https://colab.research.google.com/assets/colab-badge.svg\" alt=\"Open In Colab\"/></a>"
      ]
    },
    {
      "cell_type": "markdown",
      "metadata": {
        "id": "-rCLUKOMx1aD"
      },
      "source": [
        "# **PYTHON DICTIONARIES**"
      ]
    },
    {
      "cell_type": "markdown",
      "metadata": {
        "id": "KIyMGMxDzbHX"
      },
      "source": [
        "### **1.0 CREATING A DICTIONARY**"
      ]
    },
    {
      "cell_type": "code",
      "metadata": {
        "colab": {
          "base_uri": "https://localhost:8080/"
        },
        "id": "wUmb_Kw5yEbc",
        "outputId": "56642667-7e47-48a0-c1da-2780bbf7811a"
      },
      "source": [
        "# Bellow is a Dictionary called contact_book\n",
        "# Lets print it to deplay its keys and values\n",
        "\n",
        "contact_book = {'Parul' : 'parul@moringa.org',\n",
        "\n",
        "        'Thomas' : 'thomas@moringa.org',\n",
        "\n",
        "        'Ashley' : 'ashley@moringa.org',\n",
        "\n",
        "        'Kellen' : 'kellen@moringa.org',\n",
        "\n",
        "        'June' : 'june@moringa.org',\n",
        "\n",
        "        'Joseph' : 'joe@moringa.org',\n",
        "\n",
        "        'Lillian' : 'lillian@moringa.org',\n",
        "\n",
        "        'Arnold' : 'arnold@moringa.org' \n",
        "}\n",
        "\n",
        "\n",
        "print(contact_book)"
      ],
      "execution_count": null,
      "outputs": [
        {
          "output_type": "stream",
          "text": [
            "{'Parul': 'parul@moringa.org', 'Thomas': 'thomas@moringa.org', 'Ashley': 'ashley@moringa.org', 'Kellen': 'kellen@moringa.org', 'June': 'june@moringa.org', 'Joseph': 'joe@moringa.org', 'Lillian': 'lillian@moringa.org', 'Arnold': 'arnold@moringa.org'}\n"
          ],
          "name": "stdout"
        }
      ]
    },
    {
      "cell_type": "markdown",
      "metadata": {
        "id": "JzHUTXW2z2Ty"
      },
      "source": [
        "### **1.2 DELETING AN ITEM FROM A DICTIONAR**"
      ]
    },
    {
      "cell_type": "code",
      "metadata": {
        "colab": {
          "base_uri": "https://localhost:8080/"
        },
        "id": "9uLopP8cUAAo",
        "outputId": "9a4a1585-7a56-4b34-9848-ee64dc3d1b13"
      },
      "source": [
        "#We can use the if statements to determine whether the contact the user wants to delete is there\n",
        "#or not, if its there it will delete the contact\n",
        "\n",
        "contact = input('Enter contact: ')\n",
        "\n",
        "if contact in contact_book:\n",
        "    del contact_book[contact]\n",
        "else:\n",
        "    print('Contact not found in dictionary')"
      ],
      "execution_count": null,
      "outputs": [
        {
          "output_type": "stream",
          "text": [
            "Enter contact: Thomas\n"
          ],
          "name": "stdout"
        }
      ]
    },
    {
      "cell_type": "code",
      "metadata": {
        "colab": {
          "base_uri": "https://localhost:8080/"
        },
        "id": "Sy08TEHzU45v",
        "outputId": "e41d43fc-4cbe-4665-a4d0-f8ddc2f16c0c"
      },
      "source": [
        "#lets check whether the contact has been deleted\n",
        "#\n",
        "print(contact_book)"
      ],
      "execution_count": null,
      "outputs": [
        {
          "output_type": "stream",
          "text": [
            "{'Parul': 'parul@moringa.org', 'Ashley': 'ashley@moringa.org', 'Kellen': 'kellen@moringa.org', 'June': 'june@moringa.org', 'Joseph': 'joe@moringa.org', 'Lillian': 'lillian@moringa.org', 'Arnold': 'arnold@moringa.org', 'Glendah': 'moraaglendah@gmail.com', 'jane': 'janebonuke@gmail.com'}\n"
          ],
          "name": "stdout"
        }
      ]
    },
    {
      "cell_type": "markdown",
      "metadata": {
        "id": "xHLRN0iR2Ueo"
      },
      "source": [
        "### **1.3 ACCESSING ELEMENT FROM OUR DICTIONARY**"
      ]
    },
    {
      "cell_type": "code",
      "metadata": {
        "colab": {
          "base_uri": "https://localhost:8080/"
        },
        "id": "7euuu6882l6W",
        "outputId": "04334db7-b3bd-4bd8-ad61-02a20b2e5018"
      },
      "source": [
        "# In order to diplay the first two Elements from our dictionary \n",
        "#First we need to access them in order to be able to print them\n",
        "#\n",
        "\n",
        "first_two_elements = list(contact_book.values())[0:2]\n",
        "print(first_two_elements)"
      ],
      "execution_count": null,
      "outputs": [
        {
          "output_type": "stream",
          "text": [
            "['parul@moringa.org', 'ashley@moringa.org']\n"
          ],
          "name": "stdout"
        }
      ]
    },
    {
      "cell_type": "markdown",
      "metadata": {
        "id": "2PVfY4aJTTNT"
      },
      "source": [
        ""
      ]
    },
    {
      "cell_type": "markdown",
      "metadata": {
        "id": "mSuJSkZx9bc2"
      },
      "source": [
        "## **1.4 Checking the number of elements in a Dictionary**"
      ]
    },
    {
      "cell_type": "code",
      "metadata": {
        "colab": {
          "base_uri": "https://localhost:8080/"
        },
        "id": "3lWL5okt9lPN",
        "outputId": "378d3b39-9843-4400-dd35-be2643969b32"
      },
      "source": [
        "#Lets check the number of elementc in our dictionary\n",
        "#We do this by printing its length\n",
        "#\n",
        "\n",
        "print(len(contact_book))"
      ],
      "execution_count": null,
      "outputs": [
        {
          "output_type": "stream",
          "text": [
            "7\n"
          ],
          "name": "stdout"
        }
      ]
    },
    {
      "cell_type": "markdown",
      "metadata": {
        "id": "PF6Hudxx-A3U"
      },
      "source": [
        "### **1.5 UPDATING A DICTIONARY**"
      ]
    },
    {
      "cell_type": "code",
      "metadata": {
        "colab": {
          "base_uri": "https://localhost:8080/"
        },
        "id": "UmRJQ4sy-0tP",
        "outputId": "7eeaf279-66c4-4c83-e67d-5b1ff4d890a9"
      },
      "source": [
        "# We can use the update method to add items in our dictionary\n",
        "# \n",
        "\n",
        "contact_book.update({'Glendah': 'moraaglendah@gmail.com', 'jane': 'janebonuke@gmail.com'})\n",
        "print(contact_book)"
      ],
      "execution_count": null,
      "outputs": [
        {
          "output_type": "stream",
          "text": [
            "{'Parul': 'parul@moringa.org', 'Ashley': 'ashley@moringa.org', 'Kellen': 'kellen@moringa.org', 'June': 'june@moringa.org', 'Joseph': 'joe@moringa.org', 'Lillian': 'lillian@moringa.org', 'Arnold': 'arnold@moringa.org', 'Glendah': 'moraaglendah@gmail.com', 'jane': 'janebonuke@gmail.com'}\n"
          ],
          "name": "stdout"
        }
      ]
    },
    {
      "cell_type": "markdown",
      "metadata": {
        "id": "wiHu428SAAvr"
      },
      "source": [
        "### **1.5 DISPLAY THE ELEMENTS IN A DICTIONARY**"
      ]
    },
    {
      "cell_type": "code",
      "metadata": {
        "colab": {
          "base_uri": "https://localhost:8080/"
        },
        "id": "CFID452GATAF",
        "outputId": "a6f33e2f-28bf-4181-944e-48577d37d3ee"
      },
      "source": [
        "#Method one(1)\n",
        "#\n",
        "print(contact_book)"
      ],
      "execution_count": null,
      "outputs": [
        {
          "output_type": "stream",
          "text": [
            "{'Parul': 'parul@moringa.org', 'Ashley': 'ashley@moringa.org', 'Kellen': 'kellen@moringa.org', 'June': 'june@moringa.org', 'Joseph': 'joe@moringa.org', 'Lillian': 'lillian@moringa.org', 'Arnold': 'arnold@moringa.org', 'Glendah': 'moraaglendah@gmail.com', 'jane': 'janebonuke@gmail.com'}\n"
          ],
          "name": "stdout"
        }
      ]
    },
    {
      "cell_type": "code",
      "metadata": {
        "colab": {
          "base_uri": "https://localhost:8080/"
        },
        "id": "M6BGtYd4AcIu",
        "outputId": "1b9ccf25-020c-483b-85b7-08bd15da33d9"
      },
      "source": [
        "#Method twp(2)\n",
        "#\n",
        "\n",
        "for contact in contact_book.items():\n",
        "    print(contact)"
      ],
      "execution_count": null,
      "outputs": [
        {
          "output_type": "stream",
          "text": [
            "('Parul', 'parul@moringa.org')\n",
            "('Ashley', 'ashley@moringa.org')\n",
            "('Kellen', 'kellen@moringa.org')\n",
            "('June', 'june@moringa.org')\n",
            "('Joseph', 'joe@moringa.org')\n",
            "('Lillian', 'lillian@moringa.org')\n",
            "('Arnold', 'arnold@moringa.org')\n",
            "('Glendah', 'moraaglendah@gmail.com')\n",
            "('jane', 'janebonuke@gmail.com')\n"
          ],
          "name": "stdout"
        }
      ]
    },
    {
      "cell_type": "code",
      "metadata": {
        "id": "sR1t95jaAtcW"
      },
      "source": [
        ""
      ],
      "execution_count": null,
      "outputs": []
    }
  ]
}